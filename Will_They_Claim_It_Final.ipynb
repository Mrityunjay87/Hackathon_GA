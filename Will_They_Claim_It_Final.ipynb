{
 "cells": [
  {
   "cell_type": "markdown",
   "metadata": {},
   "source": [
    "## Problem Description\n",
    "Insurance companies take risks over customers. Risk management is a very important aspect of the insurance industry. Insurers consider every quantifiable factor to develop profiles of high and low insurance risks. Insurers collect vast amounts of information about policyholders and analyze the data.\n",
    "\n",
    "As a Data scientist in an insurance company, you need to analyze the available data and predict whether to sanction the insurance or not."
   ]
  },
  {
   "cell_type": "markdown",
   "metadata": {},
   "source": [
    "## Dataset Description\n",
    "A zipped file containing train, test and sample submission files are given. The training dataset consists of data corresponding to 52310 customers and the test dataset consists of 22421 customers. Following are the features of the dataset\n",
    "\n",
    "- Target: Claim Status (Claim)\n",
    "- Name of agency (Agency)\n",
    "- Type of travel insurance agencies (Agency.Type)\n",
    "- Distribution channel of travel insurance agencies (Distribution.Channel)\n",
    "- Name of the travel insurance products (Product.Name)\n",
    "- Duration of travel (Duration)\n",
    "- Destination of travel (Destination)\n",
    "- Amount of sales of travel insurance policies (Net.Sales)\n",
    "- The commission received for travel insurance agency (Commission)\n",
    "- Age of insured (Age)\n",
    "- The identification record of every observation (ID)"
   ]
  },
  {
   "cell_type": "markdown",
   "metadata": {},
   "source": [
    "# Evaluation Metric\n",
    "The evaluation metric for this task will be **precision_score**."
   ]
  },
  {
   "cell_type": "markdown",
   "metadata": {},
   "source": [
    "**=========================================Data Analaysis Begins=========================================**"
   ]
  },
  {
   "cell_type": "markdown",
   "metadata": {},
   "source": [
    "### Importing Necessary Pacakages"
   ]
  },
  {
   "cell_type": "code",
   "execution_count": 1,
   "metadata": {},
   "outputs": [],
   "source": [
    "import pandas as pd\n",
    "import numpy as np\n",
    "from scipy import stats\n",
    "from sklearn import preprocessing\n",
    "from sklearn.model_selection import train_test_split\n",
    "from sklearn.metrics import accuracy_score, classification_report, confusion_matrix, precision_score,recall_score,f1_score\n",
    "from sklearn.ensemble import RandomForestClassifier\n",
    "from sklearn.model_selection import RandomizedSearchCV"
   ]
  },
  {
   "cell_type": "markdown",
   "metadata": {},
   "source": [
    "Defining path for data files"
   ]
  },
  {
   "cell_type": "code",
   "execution_count": 2,
   "metadata": {},
   "outputs": [],
   "source": [
    "train_path='./train.csv'\n",
    "test_path='./test.csv'"
   ]
  },
  {
   "cell_type": "markdown",
   "metadata": {},
   "source": [
    "Loading data"
   ]
  },
  {
   "cell_type": "code",
   "execution_count": 3,
   "metadata": {},
   "outputs": [],
   "source": [
    "df_train=pd.read_csv(train_path)\n",
    "df_test=pd.read_csv(test_path)"
   ]
  },
  {
   "cell_type": "markdown",
   "metadata": {},
   "source": [
    "Getting intution about data with head and describe"
   ]
  },
  {
   "cell_type": "code",
   "execution_count": 4,
   "metadata": {},
   "outputs": [
    {
     "data": {
      "text/html": [
       "<div>\n",
       "<style scoped>\n",
       "    .dataframe tbody tr th:only-of-type {\n",
       "        vertical-align: middle;\n",
       "    }\n",
       "\n",
       "    .dataframe tbody tr th {\n",
       "        vertical-align: top;\n",
       "    }\n",
       "\n",
       "    .dataframe thead th {\n",
       "        text-align: right;\n",
       "    }\n",
       "</style>\n",
       "<table border=\"1\" class=\"dataframe\">\n",
       "  <thead>\n",
       "    <tr style=\"text-align: right;\">\n",
       "      <th></th>\n",
       "      <th>ID</th>\n",
       "      <th>Agency</th>\n",
       "      <th>Agency Type</th>\n",
       "      <th>Distribution Channel</th>\n",
       "      <th>Product Name</th>\n",
       "      <th>Duration</th>\n",
       "      <th>Destination</th>\n",
       "      <th>Net Sales</th>\n",
       "      <th>Commision (in value)</th>\n",
       "      <th>Age</th>\n",
       "    </tr>\n",
       "  </thead>\n",
       "  <tbody>\n",
       "    <tr>\n",
       "      <th>0</th>\n",
       "      <td>17631</td>\n",
       "      <td>EPX</td>\n",
       "      <td>Travel Agency</td>\n",
       "      <td>Online</td>\n",
       "      <td>Cancellation Plan</td>\n",
       "      <td>192</td>\n",
       "      <td>HONG KONG</td>\n",
       "      <td>18.0</td>\n",
       "      <td>0.00</td>\n",
       "      <td>36</td>\n",
       "    </tr>\n",
       "    <tr>\n",
       "      <th>1</th>\n",
       "      <td>15064</td>\n",
       "      <td>EPX</td>\n",
       "      <td>Travel Agency</td>\n",
       "      <td>Online</td>\n",
       "      <td>1 way Comprehensive Plan</td>\n",
       "      <td>2</td>\n",
       "      <td>SINGAPORE</td>\n",
       "      <td>20.0</td>\n",
       "      <td>0.00</td>\n",
       "      <td>36</td>\n",
       "    </tr>\n",
       "    <tr>\n",
       "      <th>2</th>\n",
       "      <td>14139</td>\n",
       "      <td>C2B</td>\n",
       "      <td>Airlines</td>\n",
       "      <td>Online</td>\n",
       "      <td>Bronze Plan</td>\n",
       "      <td>13</td>\n",
       "      <td>SINGAPORE</td>\n",
       "      <td>13.5</td>\n",
       "      <td>3.38</td>\n",
       "      <td>24</td>\n",
       "    </tr>\n",
       "    <tr>\n",
       "      <th>3</th>\n",
       "      <td>19754</td>\n",
       "      <td>EPX</td>\n",
       "      <td>Travel Agency</td>\n",
       "      <td>Online</td>\n",
       "      <td>2 way Comprehensive Plan</td>\n",
       "      <td>133</td>\n",
       "      <td>TAIWAN, PROVINCE OF CHINA</td>\n",
       "      <td>41.0</td>\n",
       "      <td>0.00</td>\n",
       "      <td>36</td>\n",
       "    </tr>\n",
       "    <tr>\n",
       "      <th>4</th>\n",
       "      <td>16439</td>\n",
       "      <td>C2B</td>\n",
       "      <td>Airlines</td>\n",
       "      <td>Online</td>\n",
       "      <td>Silver Plan</td>\n",
       "      <td>2</td>\n",
       "      <td>SINGAPORE</td>\n",
       "      <td>30.0</td>\n",
       "      <td>7.50</td>\n",
       "      <td>32</td>\n",
       "    </tr>\n",
       "  </tbody>\n",
       "</table>\n",
       "</div>"
      ],
      "text/plain": [
       "      ID Agency    Agency Type Distribution Channel              Product Name  \\\n",
       "0  17631    EPX  Travel Agency               Online         Cancellation Plan   \n",
       "1  15064    EPX  Travel Agency               Online  1 way Comprehensive Plan   \n",
       "2  14139    C2B       Airlines               Online               Bronze Plan   \n",
       "3  19754    EPX  Travel Agency               Online  2 way Comprehensive Plan   \n",
       "4  16439    C2B       Airlines               Online               Silver Plan   \n",
       "\n",
       "   Duration                Destination  Net Sales  Commision (in value)  Age  \n",
       "0       192                  HONG KONG       18.0                  0.00   36  \n",
       "1         2                  SINGAPORE       20.0                  0.00   36  \n",
       "2        13                  SINGAPORE       13.5                  3.38   24  \n",
       "3       133  TAIWAN, PROVINCE OF CHINA       41.0                  0.00   36  \n",
       "4         2                  SINGAPORE       30.0                  7.50   32  "
      ]
     },
     "execution_count": 4,
     "metadata": {},
     "output_type": "execute_result"
    }
   ],
   "source": [
    "df_test.head()\n"
   ]
  },
  {
   "cell_type": "code",
   "execution_count": 5,
   "metadata": {},
   "outputs": [
    {
     "data": {
      "text/html": [
       "<div>\n",
       "<style scoped>\n",
       "    .dataframe tbody tr th:only-of-type {\n",
       "        vertical-align: middle;\n",
       "    }\n",
       "\n",
       "    .dataframe tbody tr th {\n",
       "        vertical-align: top;\n",
       "    }\n",
       "\n",
       "    .dataframe thead th {\n",
       "        text-align: right;\n",
       "    }\n",
       "</style>\n",
       "<table border=\"1\" class=\"dataframe\">\n",
       "  <thead>\n",
       "    <tr style=\"text-align: right;\">\n",
       "      <th></th>\n",
       "      <th>ID</th>\n",
       "      <th>Duration</th>\n",
       "      <th>Net Sales</th>\n",
       "      <th>Commision (in value)</th>\n",
       "      <th>Age</th>\n",
       "    </tr>\n",
       "  </thead>\n",
       "  <tbody>\n",
       "    <tr>\n",
       "      <th>count</th>\n",
       "      <td>22421.000000</td>\n",
       "      <td>22421.000000</td>\n",
       "      <td>22421.000000</td>\n",
       "      <td>22421.000000</td>\n",
       "      <td>22421.000000</td>\n",
       "    </tr>\n",
       "    <tr>\n",
       "      <th>mean</th>\n",
       "      <td>15499.196646</td>\n",
       "      <td>59.100665</td>\n",
       "      <td>49.446070</td>\n",
       "      <td>12.316924</td>\n",
       "      <td>39.784889</td>\n",
       "    </tr>\n",
       "    <tr>\n",
       "      <th>std</th>\n",
       "      <td>2606.751171</td>\n",
       "      <td>114.819397</td>\n",
       "      <td>61.794609</td>\n",
       "      <td>22.957306</td>\n",
       "      <td>13.910773</td>\n",
       "    </tr>\n",
       "    <tr>\n",
       "      <th>min</th>\n",
       "      <td>11000.000000</td>\n",
       "      <td>-1.000000</td>\n",
       "      <td>-297.000000</td>\n",
       "      <td>0.000000</td>\n",
       "      <td>1.000000</td>\n",
       "    </tr>\n",
       "    <tr>\n",
       "      <th>25%</th>\n",
       "      <td>13236.000000</td>\n",
       "      <td>10.000000</td>\n",
       "      <td>19.800000</td>\n",
       "      <td>0.000000</td>\n",
       "      <td>34.000000</td>\n",
       "    </tr>\n",
       "    <tr>\n",
       "      <th>50%</th>\n",
       "      <td>15515.000000</td>\n",
       "      <td>24.000000</td>\n",
       "      <td>29.518868</td>\n",
       "      <td>0.000000</td>\n",
       "      <td>36.000000</td>\n",
       "    </tr>\n",
       "    <tr>\n",
       "      <th>75%</th>\n",
       "      <td>17762.000000</td>\n",
       "      <td>58.000000</td>\n",
       "      <td>56.000000</td>\n",
       "      <td>13.630000</td>\n",
       "      <td>43.000000</td>\n",
       "    </tr>\n",
       "    <tr>\n",
       "      <th>max</th>\n",
       "      <td>20000.000000</td>\n",
       "      <td>4857.000000</td>\n",
       "      <td>810.000000</td>\n",
       "      <td>283.500000</td>\n",
       "      <td>118.000000</td>\n",
       "    </tr>\n",
       "  </tbody>\n",
       "</table>\n",
       "</div>"
      ],
      "text/plain": [
       "                 ID      Duration     Net Sales  Commision (in value)  \\\n",
       "count  22421.000000  22421.000000  22421.000000          22421.000000   \n",
       "mean   15499.196646     59.100665     49.446070             12.316924   \n",
       "std     2606.751171    114.819397     61.794609             22.957306   \n",
       "min    11000.000000     -1.000000   -297.000000              0.000000   \n",
       "25%    13236.000000     10.000000     19.800000              0.000000   \n",
       "50%    15515.000000     24.000000     29.518868              0.000000   \n",
       "75%    17762.000000     58.000000     56.000000             13.630000   \n",
       "max    20000.000000   4857.000000    810.000000            283.500000   \n",
       "\n",
       "                Age  \n",
       "count  22421.000000  \n",
       "mean      39.784889  \n",
       "std       13.910773  \n",
       "min        1.000000  \n",
       "25%       34.000000  \n",
       "50%       36.000000  \n",
       "75%       43.000000  \n",
       "max      118.000000  "
      ]
     },
     "execution_count": 5,
     "metadata": {},
     "output_type": "execute_result"
    }
   ],
   "source": [
    "df_test.describe()"
   ]
  },
  {
   "cell_type": "code",
   "execution_count": 6,
   "metadata": {},
   "outputs": [
    {
     "data": {
      "text/html": [
       "<div>\n",
       "<style scoped>\n",
       "    .dataframe tbody tr th:only-of-type {\n",
       "        vertical-align: middle;\n",
       "    }\n",
       "\n",
       "    .dataframe tbody tr th {\n",
       "        vertical-align: top;\n",
       "    }\n",
       "\n",
       "    .dataframe thead th {\n",
       "        text-align: right;\n",
       "    }\n",
       "</style>\n",
       "<table border=\"1\" class=\"dataframe\">\n",
       "  <thead>\n",
       "    <tr style=\"text-align: right;\">\n",
       "      <th></th>\n",
       "      <th>ID</th>\n",
       "      <th>Duration</th>\n",
       "      <th>Net Sales</th>\n",
       "      <th>Commision (in value)</th>\n",
       "      <th>Age</th>\n",
       "      <th>Claim</th>\n",
       "    </tr>\n",
       "  </thead>\n",
       "  <tbody>\n",
       "    <tr>\n",
       "      <th>count</th>\n",
       "      <td>52310.000000</td>\n",
       "      <td>52310.000000</td>\n",
       "      <td>52310.000000</td>\n",
       "      <td>52310.000000</td>\n",
       "      <td>52310.000000</td>\n",
       "      <td>52310.000000</td>\n",
       "    </tr>\n",
       "    <tr>\n",
       "      <th>mean</th>\n",
       "      <td>6005.745804</td>\n",
       "      <td>58.256108</td>\n",
       "      <td>48.554673</td>\n",
       "      <td>12.219963</td>\n",
       "      <td>39.555725</td>\n",
       "      <td>0.166699</td>\n",
       "    </tr>\n",
       "    <tr>\n",
       "      <th>std</th>\n",
       "      <td>2306.450475</td>\n",
       "      <td>109.138708</td>\n",
       "      <td>60.198589</td>\n",
       "      <td>22.847645</td>\n",
       "      <td>13.762473</td>\n",
       "      <td>0.372710</td>\n",
       "    </tr>\n",
       "    <tr>\n",
       "      <th>min</th>\n",
       "      <td>2000.000000</td>\n",
       "      <td>-2.000000</td>\n",
       "      <td>-389.000000</td>\n",
       "      <td>0.000000</td>\n",
       "      <td>0.000000</td>\n",
       "      <td>0.000000</td>\n",
       "    </tr>\n",
       "    <tr>\n",
       "      <th>25%</th>\n",
       "      <td>4015.000000</td>\n",
       "      <td>10.000000</td>\n",
       "      <td>19.800000</td>\n",
       "      <td>0.000000</td>\n",
       "      <td>33.000000</td>\n",
       "      <td>0.000000</td>\n",
       "    </tr>\n",
       "    <tr>\n",
       "      <th>50%</th>\n",
       "      <td>6002.000000</td>\n",
       "      <td>24.000000</td>\n",
       "      <td>29.500000</td>\n",
       "      <td>0.000000</td>\n",
       "      <td>36.000000</td>\n",
       "      <td>0.000000</td>\n",
       "    </tr>\n",
       "    <tr>\n",
       "      <th>75%</th>\n",
       "      <td>8004.000000</td>\n",
       "      <td>57.000000</td>\n",
       "      <td>55.000000</td>\n",
       "      <td>13.380000</td>\n",
       "      <td>43.000000</td>\n",
       "      <td>0.000000</td>\n",
       "    </tr>\n",
       "    <tr>\n",
       "      <th>max</th>\n",
       "      <td>10000.000000</td>\n",
       "      <td>4881.000000</td>\n",
       "      <td>682.000000</td>\n",
       "      <td>262.760000</td>\n",
       "      <td>118.000000</td>\n",
       "      <td>1.000000</td>\n",
       "    </tr>\n",
       "  </tbody>\n",
       "</table>\n",
       "</div>"
      ],
      "text/plain": [
       "                 ID      Duration     Net Sales  Commision (in value)  \\\n",
       "count  52310.000000  52310.000000  52310.000000          52310.000000   \n",
       "mean    6005.745804     58.256108     48.554673             12.219963   \n",
       "std     2306.450475    109.138708     60.198589             22.847645   \n",
       "min     2000.000000     -2.000000   -389.000000              0.000000   \n",
       "25%     4015.000000     10.000000     19.800000              0.000000   \n",
       "50%     6002.000000     24.000000     29.500000              0.000000   \n",
       "75%     8004.000000     57.000000     55.000000             13.380000   \n",
       "max    10000.000000   4881.000000    682.000000            262.760000   \n",
       "\n",
       "                Age         Claim  \n",
       "count  52310.000000  52310.000000  \n",
       "mean      39.555725      0.166699  \n",
       "std       13.762473      0.372710  \n",
       "min        0.000000      0.000000  \n",
       "25%       33.000000      0.000000  \n",
       "50%       36.000000      0.000000  \n",
       "75%       43.000000      0.000000  \n",
       "max      118.000000      1.000000  "
      ]
     },
     "execution_count": 6,
     "metadata": {},
     "output_type": "execute_result"
    }
   ],
   "source": [
    "df_train.describe()"
   ]
  },
  {
   "cell_type": "code",
   "execution_count": 7,
   "metadata": {},
   "outputs": [
    {
     "name": "stdout",
     "output_type": "stream",
     "text": [
      "<class 'pandas.core.frame.DataFrame'>\n",
      "RangeIndex: 52310 entries, 0 to 52309\n",
      "Data columns (total 11 columns):\n",
      " #   Column                Non-Null Count  Dtype  \n",
      "---  ------                --------------  -----  \n",
      " 0   ID                    52310 non-null  int64  \n",
      " 1   Agency                52310 non-null  object \n",
      " 2   Agency Type           52310 non-null  object \n",
      " 3   Distribution Channel  52310 non-null  object \n",
      " 4   Product Name          52310 non-null  object \n",
      " 5   Duration              52310 non-null  int64  \n",
      " 6   Destination           52310 non-null  object \n",
      " 7   Net Sales             52310 non-null  float64\n",
      " 8   Commision (in value)  52310 non-null  float64\n",
      " 9   Age                   52310 non-null  int64  \n",
      " 10  Claim                 52310 non-null  int64  \n",
      "dtypes: float64(2), int64(4), object(5)\n",
      "memory usage: 4.4+ MB\n"
     ]
    }
   ],
   "source": [
    "df_train.info()"
   ]
  },
  {
   "cell_type": "markdown",
   "metadata": {},
   "source": [
    "Above summary shows no column has **\"Null\"** Values. We can also see there are 6 columns having numerical data and other are categorical data."
   ]
  },
  {
   "cell_type": "markdown",
   "metadata": {},
   "source": [
    "## Segregating Numerical and Object data"
   ]
  },
  {
   "cell_type": "code",
   "execution_count": 8,
   "metadata": {},
   "outputs": [],
   "source": [
    "numerical_cols=df_train.select_dtypes(include=['int64','float64'])\n",
    "categorical_cols=df_train.select_dtypes(include='object')\n",
    "numerical_cols_test=df_test.select_dtypes(include=['int64','float64'])\n",
    "categorical_cols_test=df_test.select_dtypes(include='object')"
   ]
  },
  {
   "cell_type": "code",
   "execution_count": 9,
   "metadata": {},
   "outputs": [
    {
     "data": {
      "text/plain": [
       "Index(['Agency', 'Agency Type', 'Distribution Channel', 'Product Name',\n",
       "       'Destination'],\n",
       "      dtype='object')"
      ]
     },
     "execution_count": 9,
     "metadata": {},
     "output_type": "execute_result"
    }
   ],
   "source": [
    "categorical_cols.columns"
   ]
  },
  {
   "cell_type": "markdown",
   "metadata": {},
   "source": [
    "### With above information and basic analysis we can conclude following:\n",
    "- **ID:** Numerical value for reference, No significane in stastical analysis.\n",
    "- **Duration:** \n",
    "    - has values in negative. Which is not possible, Time can't be in negative. This will need further analysis as how many occurances of such data.\n",
    "    - has High Variance\n",
    "    - Standard Deviation of 109 against mean 58 suggest data is largely dispersed\n",
    "- **Net Sales:**\n",
    "    - Has Values in negative. Need more investigation.\n",
    "    - Data is releativley clsoer to mean\n",
    "    - variance is high\n",
    "- **Commision (in value):**\n",
    "    - closer to mean\n",
    "    - no negative value\n",
    "    - 50% data has value as 0\n",
    "- **Age:**\n",
    "    - Age having Min as 0 suggests unit is in years.\n",
    "    - Standard Deviation is low suggest data is closer to mean.\n",
    "- **Claim:**\n",
    "    - Boolean value and is target Variable\n",
    "    "
   ]
  },
  {
   "cell_type": "code",
   "execution_count": 10,
   "metadata": {},
   "outputs": [],
   "source": [
    "numerical_cols = numerical_cols.copy()\n",
    "#Droping ID from Numerical Columns\n",
    "numerical_cols.drop(columns=[\"ID\",\"Claim\"],axis=1,inplace=True)"
   ]
  },
  {
   "cell_type": "markdown",
   "metadata": {},
   "source": [
    "## Opeartion on Numerical Data\n",
    "### Checking skewness "
   ]
  },
  {
   "cell_type": "code",
   "execution_count": 11,
   "metadata": {},
   "outputs": [],
   "source": [
    "skew_check={}\n",
    "for i in numerical_cols.columns:\n",
    "    skew_check[i]=numerical_cols[i].skew()"
   ]
  },
  {
   "cell_type": "code",
   "execution_count": 12,
   "metadata": {},
   "outputs": [
    {
     "data": {
      "text/plain": [
       "{'Duration': 15.3525235978114,\n",
       " 'Net Sales': 2.811837338046441,\n",
       " 'Commision (in value)': 3.5356943446774736,\n",
       " 'Age': 2.9478911827909426}"
      ]
     },
     "execution_count": 12,
     "metadata": {},
     "output_type": "execute_result"
    }
   ],
   "source": [
    "skew_check"
   ]
  },
  {
   "cell_type": "markdown",
   "metadata": {},
   "source": [
    "Above value shows All numerical data is **postive skewed**.Applying Transformation techniques for data to follow **Guassian distribution**"
   ]
  },
  {
   "cell_type": "code",
   "execution_count": 13,
   "metadata": {},
   "outputs": [
    {
     "data": {
      "text/html": [
       "<div>\n",
       "<style scoped>\n",
       "    .dataframe tbody tr th:only-of-type {\n",
       "        vertical-align: middle;\n",
       "    }\n",
       "\n",
       "    .dataframe tbody tr th {\n",
       "        vertical-align: top;\n",
       "    }\n",
       "\n",
       "    .dataframe thead th {\n",
       "        text-align: right;\n",
       "    }\n",
       "</style>\n",
       "<table border=\"1\" class=\"dataframe\">\n",
       "  <thead>\n",
       "    <tr style=\"text-align: right;\">\n",
       "      <th></th>\n",
       "      <th>0.00</th>\n",
       "      <th>0.01</th>\n",
       "      <th>0.02</th>\n",
       "      <th>0.03</th>\n",
       "      <th>0.04</th>\n",
       "      <th>0.05</th>\n",
       "      <th>0.06</th>\n",
       "      <th>0.07</th>\n",
       "      <th>0.08</th>\n",
       "      <th>0.09</th>\n",
       "      <th>...</th>\n",
       "      <th>0.91</th>\n",
       "      <th>0.92</th>\n",
       "      <th>0.93</th>\n",
       "      <th>0.94</th>\n",
       "      <th>0.95</th>\n",
       "      <th>0.96</th>\n",
       "      <th>0.97</th>\n",
       "      <th>0.98</th>\n",
       "      <th>0.99</th>\n",
       "      <th>1.00</th>\n",
       "    </tr>\n",
       "  </thead>\n",
       "  <tbody>\n",
       "    <tr>\n",
       "      <th>Net Sales</th>\n",
       "      <td>-389.0</td>\n",
       "      <td>0.0</td>\n",
       "      <td>0.0</td>\n",
       "      <td>0.0</td>\n",
       "      <td>2.12</td>\n",
       "      <td>9.9</td>\n",
       "      <td>10.0</td>\n",
       "      <td>10.0</td>\n",
       "      <td>10.0</td>\n",
       "      <td>10.0</td>\n",
       "      <td>...</td>\n",
       "      <td>112.0</td>\n",
       "      <td>112.0</td>\n",
       "      <td>128.7</td>\n",
       "      <td>164.069017</td>\n",
       "      <td>201.598537</td>\n",
       "      <td>216.0</td>\n",
       "      <td>246.901143</td>\n",
       "      <td>252.85</td>\n",
       "      <td>291.75</td>\n",
       "      <td>682.0</td>\n",
       "    </tr>\n",
       "  </tbody>\n",
       "</table>\n",
       "<p>1 rows × 101 columns</p>\n",
       "</div>"
      ],
      "text/plain": [
       "            0.00  0.01  0.02  0.03  0.04  0.05  0.06  0.07  0.08  0.09  ...  \\\n",
       "Net Sales -389.0   0.0   0.0   0.0  2.12   9.9  10.0  10.0  10.0  10.0  ...   \n",
       "\n",
       "            0.91   0.92   0.93        0.94        0.95   0.96        0.97  \\\n",
       "Net Sales  112.0  112.0  128.7  164.069017  201.598537  216.0  246.901143   \n",
       "\n",
       "             0.98    0.99   1.00  \n",
       "Net Sales  252.85  291.75  682.0  \n",
       "\n",
       "[1 rows x 101 columns]"
      ]
     },
     "execution_count": 13,
     "metadata": {},
     "output_type": "execute_result"
    }
   ],
   "source": [
    "#np.quantile(df_train_logtransformed,q = [0.1, 0.2, 0.3])\n",
    "seq = np.linspace(0,1,101)\n",
    "pd.DataFrame(df_train['Net Sales'].quantile(seq)).T"
   ]
  },
  {
   "cell_type": "code",
   "execution_count": 14,
   "metadata": {},
   "outputs": [
    {
     "data": {
      "text/plain": [
       "count    52310.000000\n",
       "mean        48.554673\n",
       "std         60.198589\n",
       "min       -389.000000\n",
       "25%         19.800000\n",
       "50%         29.500000\n",
       "75%         55.000000\n",
       "max        682.000000\n",
       "Name: Net Sales, dtype: float64"
      ]
     },
     "execution_count": 14,
     "metadata": {},
     "output_type": "execute_result"
    }
   ],
   "source": [
    "df_train['Net Sales'].describe()"
   ]
  },
  {
   "cell_type": "markdown",
   "metadata": {},
   "source": [
    "## Opeartion on Categorical Data"
   ]
  },
  {
   "cell_type": "code",
   "execution_count": 15,
   "metadata": {},
   "outputs": [
    {
     "data": {
      "text/plain": [
       "Index(['Agency', 'Agency Type', 'Distribution Channel', 'Product Name',\n",
       "       'Destination'],\n",
       "      dtype='object')"
      ]
     },
     "execution_count": 15,
     "metadata": {},
     "output_type": "execute_result"
    }
   ],
   "source": [
    "categorical_cols.columns"
   ]
  },
  {
   "cell_type": "code",
   "execution_count": 16,
   "metadata": {},
   "outputs": [
    {
     "name": "stdout",
     "output_type": "stream",
     "text": [
      "Column Agency has 16 unique values\n",
      "Column Agency Type has 2 unique values\n",
      "Column Distribution Channel has 2 unique values\n",
      "Column Product Name has 25 unique values\n",
      "Column Destination has 97 unique values\n"
     ]
    }
   ],
   "source": [
    "for i in categorical_cols:\n",
    "    print(\"Column {} has {} unique values\".format(i,len(categorical_cols[i].value_counts())))"
   ]
  },
  {
   "cell_type": "markdown",
   "metadata": {},
   "source": [
    "Analysing above data it suggests columns **\"Agency Type\"** & **\"Agency\"** are of Boolean in nature.However rest 3 columns are of Non Boolean in nature hence opting for **LabelEncoding**."
   ]
  },
  {
   "cell_type": "code",
   "execution_count": 17,
   "metadata": {},
   "outputs": [],
   "source": [
    "le=preprocessing.LabelEncoder() #Intialising LabelEncoder Model\n",
    "df_train_enc=pd.DataFrame() #Creating Empty Dataframe to store encoded Values\n",
    "\n",
    "for i in (categorical_cols.columns): #Looping through to encode each columns\n",
    "    df_train_enc[i] = le.fit_transform(df_train[i])   "
   ]
  },
  {
   "cell_type": "code",
   "execution_count": 23,
   "metadata": {},
   "outputs": [],
   "source": [
    "#This is not the correct way\n",
    "df_test_enc=pd.DataFrame() #Creating Empty Dataframe to store encoded Values\n",
    "for i in (categorical_cols_test.columns):\n",
    "    df_test_enc[i] = le.fit_transform(df_test[i])"
   ]
  },
  {
   "cell_type": "code",
   "execution_count": 19,
   "metadata": {},
   "outputs": [
    {
     "data": {
      "text/plain": [
       "array([ 7,  2,  6, 11, 14,  9, 12,  4,  8, 13, 10,  0,  1, 15,  5,  3])"
      ]
     },
     "execution_count": 19,
     "metadata": {},
     "output_type": "execute_result"
    }
   ],
   "source": [
    "df_test_enc.Agency.unique()"
   ]
  },
  {
   "cell_type": "code",
   "execution_count": 20,
   "metadata": {},
   "outputs": [
    {
     "data": {
      "text/plain": [
       "array([ 7,  6,  9,  2, 12, 14,  5,  8, 11, 13,  1,  4, 10,  0,  3, 15])"
      ]
     },
     "execution_count": 20,
     "metadata": {},
     "output_type": "execute_result"
    }
   ],
   "source": [
    "df_train_enc.Agency.unique()"
   ]
  },
  {
   "cell_type": "code",
   "execution_count": null,
   "metadata": {},
   "outputs": [],
   "source": [
    "test_1"
   ]
  },
  {
   "cell_type": "code",
   "execution_count": 24,
   "metadata": {},
   "outputs": [
    {
     "data": {
      "text/html": [
       "<div>\n",
       "<style scoped>\n",
       "    .dataframe tbody tr th:only-of-type {\n",
       "        vertical-align: middle;\n",
       "    }\n",
       "\n",
       "    .dataframe tbody tr th {\n",
       "        vertical-align: top;\n",
       "    }\n",
       "\n",
       "    .dataframe thead th {\n",
       "        text-align: right;\n",
       "    }\n",
       "</style>\n",
       "<table border=\"1\" class=\"dataframe\">\n",
       "  <thead>\n",
       "    <tr style=\"text-align: right;\">\n",
       "      <th></th>\n",
       "      <th>Agency</th>\n",
       "      <th>Agency Type</th>\n",
       "      <th>Distribution Channel</th>\n",
       "      <th>Product Name</th>\n",
       "      <th>Destination</th>\n",
       "    </tr>\n",
       "  </thead>\n",
       "  <tbody>\n",
       "    <tr>\n",
       "      <th>0</th>\n",
       "      <td>7</td>\n",
       "      <td>1</td>\n",
       "      <td>1</td>\n",
       "      <td>10</td>\n",
       "      <td>68</td>\n",
       "    </tr>\n",
       "    <tr>\n",
       "      <th>1</th>\n",
       "      <td>7</td>\n",
       "      <td>1</td>\n",
       "      <td>1</td>\n",
       "      <td>10</td>\n",
       "      <td>53</td>\n",
       "    </tr>\n",
       "    <tr>\n",
       "      <th>2</th>\n",
       "      <td>6</td>\n",
       "      <td>1</td>\n",
       "      <td>1</td>\n",
       "      <td>16</td>\n",
       "      <td>84</td>\n",
       "    </tr>\n",
       "    <tr>\n",
       "      <th>3</th>\n",
       "      <td>7</td>\n",
       "      <td>1</td>\n",
       "      <td>1</td>\n",
       "      <td>1</td>\n",
       "      <td>33</td>\n",
       "    </tr>\n",
       "    <tr>\n",
       "      <th>4</th>\n",
       "      <td>7</td>\n",
       "      <td>1</td>\n",
       "      <td>1</td>\n",
       "      <td>1</td>\n",
       "      <td>53</td>\n",
       "    </tr>\n",
       "  </tbody>\n",
       "</table>\n",
       "</div>"
      ],
      "text/plain": [
       "   Agency  Agency Type  Distribution Channel  Product Name  Destination\n",
       "0       7            1                     1            10           68\n",
       "1       7            1                     1            10           53\n",
       "2       6            1                     1            16           84\n",
       "3       7            1                     1             1           33\n",
       "4       7            1                     1             1           53"
      ]
     },
     "execution_count": 24,
     "metadata": {},
     "output_type": "execute_result"
    }
   ],
   "source": [
    "df_train_enc.head() #Checking for encoded values"
   ]
  },
  {
   "cell_type": "markdown",
   "metadata": {},
   "source": [
    "Merging dataframes (Encoded +Tranformed)"
   ]
  },
  {
   "cell_type": "code",
   "execution_count": 25,
   "metadata": {},
   "outputs": [],
   "source": [
    "df_train_Modified=pd.concat([numerical_cols,df_train_enc],axis=1) #Adding both dataframes\n",
    "df_test_Modified=pd.concat([numerical_cols_test,df_test_enc],axis=1) #Adding both dataframes"
   ]
  },
  {
   "cell_type": "code",
   "execution_count": 26,
   "metadata": {},
   "outputs": [
    {
     "data": {
      "text/html": [
       "<div>\n",
       "<style scoped>\n",
       "    .dataframe tbody tr th:only-of-type {\n",
       "        vertical-align: middle;\n",
       "    }\n",
       "\n",
       "    .dataframe tbody tr th {\n",
       "        vertical-align: top;\n",
       "    }\n",
       "\n",
       "    .dataframe thead th {\n",
       "        text-align: right;\n",
       "    }\n",
       "</style>\n",
       "<table border=\"1\" class=\"dataframe\">\n",
       "  <thead>\n",
       "    <tr style=\"text-align: right;\">\n",
       "      <th></th>\n",
       "      <th>Duration</th>\n",
       "      <th>Net Sales</th>\n",
       "      <th>Commision (in value)</th>\n",
       "      <th>Age</th>\n",
       "      <th>Agency</th>\n",
       "      <th>Agency Type</th>\n",
       "      <th>Distribution Channel</th>\n",
       "      <th>Product Name</th>\n",
       "      <th>Destination</th>\n",
       "    </tr>\n",
       "  </thead>\n",
       "  <tbody>\n",
       "    <tr>\n",
       "      <th>0</th>\n",
       "      <td>61</td>\n",
       "      <td>12.0</td>\n",
       "      <td>0.00</td>\n",
       "      <td>41</td>\n",
       "      <td>7</td>\n",
       "      <td>1</td>\n",
       "      <td>1</td>\n",
       "      <td>10</td>\n",
       "      <td>68</td>\n",
       "    </tr>\n",
       "    <tr>\n",
       "      <th>1</th>\n",
       "      <td>4</td>\n",
       "      <td>17.0</td>\n",
       "      <td>0.00</td>\n",
       "      <td>35</td>\n",
       "      <td>7</td>\n",
       "      <td>1</td>\n",
       "      <td>1</td>\n",
       "      <td>10</td>\n",
       "      <td>53</td>\n",
       "    </tr>\n",
       "    <tr>\n",
       "      <th>2</th>\n",
       "      <td>26</td>\n",
       "      <td>19.8</td>\n",
       "      <td>11.88</td>\n",
       "      <td>47</td>\n",
       "      <td>6</td>\n",
       "      <td>1</td>\n",
       "      <td>1</td>\n",
       "      <td>16</td>\n",
       "      <td>84</td>\n",
       "    </tr>\n",
       "    <tr>\n",
       "      <th>3</th>\n",
       "      <td>15</td>\n",
       "      <td>27.0</td>\n",
       "      <td>0.00</td>\n",
       "      <td>48</td>\n",
       "      <td>7</td>\n",
       "      <td>1</td>\n",
       "      <td>1</td>\n",
       "      <td>1</td>\n",
       "      <td>33</td>\n",
       "    </tr>\n",
       "    <tr>\n",
       "      <th>4</th>\n",
       "      <td>15</td>\n",
       "      <td>37.0</td>\n",
       "      <td>0.00</td>\n",
       "      <td>36</td>\n",
       "      <td>7</td>\n",
       "      <td>1</td>\n",
       "      <td>1</td>\n",
       "      <td>1</td>\n",
       "      <td>53</td>\n",
       "    </tr>\n",
       "  </tbody>\n",
       "</table>\n",
       "</div>"
      ],
      "text/plain": [
       "   Duration  Net Sales  Commision (in value)  Age  Agency  Agency Type  \\\n",
       "0        61       12.0                  0.00   41       7            1   \n",
       "1         4       17.0                  0.00   35       7            1   \n",
       "2        26       19.8                 11.88   47       6            1   \n",
       "3        15       27.0                  0.00   48       7            1   \n",
       "4        15       37.0                  0.00   36       7            1   \n",
       "\n",
       "   Distribution Channel  Product Name  Destination  \n",
       "0                     1            10           68  \n",
       "1                     1            10           53  \n",
       "2                     1            16           84  \n",
       "3                     1             1           33  \n",
       "4                     1             1           53  "
      ]
     },
     "execution_count": 26,
     "metadata": {},
     "output_type": "execute_result"
    }
   ],
   "source": [
    "df_train_Modified.head()\n",
    "#df_train_clean_power['Net Sales'].min()"
   ]
  },
  {
   "cell_type": "markdown",
   "metadata": {},
   "source": [
    "### Applying Feature Selection Technique"
   ]
  },
  {
   "cell_type": "code",
   "execution_count": 27,
   "metadata": {},
   "outputs": [
    {
     "data": {
      "text/plain": [
       "Duration                15.352524\n",
       "Net Sales                2.811837\n",
       "Commision (in value)     3.535694\n",
       "Age                      2.947891\n",
       "Agency                  -0.097111\n",
       "Agency Type             -0.718350\n",
       "Distribution Channel    -7.465242\n",
       "Product Name             0.332685\n",
       "Destination             -0.590582\n",
       "dtype: float64"
      ]
     },
     "execution_count": 27,
     "metadata": {},
     "output_type": "execute_result"
    }
   ],
   "source": [
    "clean_skew=df_train_Modified.skew()\n",
    "\n",
    "clean_skew"
   ]
  },
  {
   "cell_type": "markdown",
   "metadata": {},
   "source": [
    "## Model Building"
   ]
  },
  {
   "cell_type": "markdown",
   "metadata": {},
   "source": [
    "### Splliting data in Feature and Target variable"
   ]
  },
  {
   "cell_type": "code",
   "execution_count": 28,
   "metadata": {},
   "outputs": [],
   "source": [
    "#Data with Log Transformed\n",
    "X=df_train_Modified #Features\n",
    "y=df_train['Claim'] #Target"
   ]
  },
  {
   "cell_type": "code",
   "execution_count": 29,
   "metadata": {},
   "outputs": [],
   "source": [
    "# Train Test Split Log Transformed Data\n",
    "X_train,X_test,y_train,y_test=train_test_split(X,y,test_size=0.2,random_state=3)"
   ]
  },
  {
   "cell_type": "code",
   "execution_count": 30,
   "metadata": {},
   "outputs": [
    {
     "name": "stdout",
     "output_type": "stream",
     "text": [
      "Shape of X Train: (41848, 9)  & Y Train is  (41848,)\n"
     ]
    }
   ],
   "source": [
    "#Checking for shape of Training data\n",
    "print(\"Shape of X Train:\",X_train.shape,\" & Y Train is \",y_train.shape)"
   ]
  },
  {
   "cell_type": "code",
   "execution_count": 42,
   "metadata": {},
   "outputs": [
    {
     "ename": "ModuleNotFoundError",
     "evalue": "No module named 'imblearn'",
     "output_type": "error",
     "traceback": [
      "\u001b[1;31m---------------------------------------------------------------------------\u001b[0m",
      "\u001b[1;31mModuleNotFoundError\u001b[0m                       Traceback (most recent call last)",
      "\u001b[1;32m<ipython-input-42-3a19601b2b7c>\u001b[0m in \u001b[0;36m<module>\u001b[1;34m\u001b[0m\n\u001b[1;32m----> 1\u001b[1;33m \u001b[1;32mfrom\u001b[0m \u001b[0mimblearn\u001b[0m\u001b[1;33m.\u001b[0m\u001b[0mover_sampling\u001b[0m \u001b[1;32mimport\u001b[0m \u001b[0mSMOTE\u001b[0m\u001b[1;33m\u001b[0m\u001b[1;33m\u001b[0m\u001b[0m\n\u001b[0m\u001b[0;32m      2\u001b[0m \u001b[1;32mimport\u001b[0m \u001b[0msmote_variants\u001b[0m \u001b[1;32mas\u001b[0m \u001b[0msv\u001b[0m\u001b[1;33m\u001b[0m\u001b[1;33m\u001b[0m\u001b[0m\n",
      "\u001b[1;31mModuleNotFoundError\u001b[0m: No module named 'imblearn'"
     ]
    }
   ],
   "source": [
    "from imblearn.over_sampling import SMOTE\n",
    "import smote_variants as sv"
   ]
  },
  {
   "cell_type": "code",
   "execution_count": 43,
   "metadata": {},
   "outputs": [
    {
     "name": "stdout",
     "output_type": "stream",
     "text": [
      "Collecting imblearn\n",
      "  Downloading imblearn-0.0-py2.py3-none-any.whl (1.9 kB)\n",
      "Collecting imbalanced-learn\n",
      "  Downloading imbalanced_learn-0.7.0-py3-none-any.whl (167 kB)\n",
      "Requirement already satisfied: scipy>=0.19.1 in c:\\users\\mrityunjay1.pandey\\anaconda3\\lib\\site-packages (from imbalanced-learn->imblearn) (1.4.1)\n",
      "Requirement already satisfied: numpy>=1.13.3 in c:\\users\\mrityunjay1.pandey\\anaconda3\\lib\\site-packages (from imbalanced-learn->imblearn) (1.18.1)\n",
      "Requirement already satisfied: joblib>=0.11 in c:\\users\\mrityunjay1.pandey\\anaconda3\\lib\\site-packages (from imbalanced-learn->imblearn) (0.14.1)\n",
      "Collecting scikit-learn>=0.23\n",
      "  Downloading scikit_learn-0.24.1-cp37-cp37m-win_amd64.whl (6.8 MB)\n",
      "Collecting threadpoolctl>=2.0.0\n",
      "  Downloading threadpoolctl-2.1.0-py3-none-any.whl (12 kB)\n",
      "Installing collected packages: threadpoolctl, scikit-learn, imbalanced-learn, imblearn\n",
      "  Attempting uninstall: scikit-learn\n",
      "    Found existing installation: scikit-learn 0.22.1\n",
      "    Uninstalling scikit-learn-0.22.1:\n",
      "      Successfully uninstalled scikit-learn-0.22.1\n",
      "Note: you may need to restart the kernel to use updated packages.\n"
     ]
    },
    {
     "name": "stderr",
     "output_type": "stream",
     "text": [
      "ERROR: Could not install packages due to an EnvironmentError: [WinError 5] Access is denied: 'c:\\\\users\\\\mrityunjay1.pandey\\\\anaconda3\\\\lib\\\\site-packages\\\\~klearn\\\\decomposition\\\\_cdnmf_fast.cp37-win_amd64.pyd'\n",
      "Consider using the `--user` option or check the permissions.\n",
      "\n"
     ]
    }
   ],
   "source": [
    "pip install imblearn"
   ]
  },
  {
   "cell_type": "markdown",
   "metadata": {},
   "source": [
    "### Model Execution"
   ]
  },
  {
   "cell_type": "markdown",
   "metadata": {},
   "source": [
    "#### Building Random Forest model after finalizing "
   ]
  },
  {
   "cell_type": "code",
   "execution_count": 34,
   "metadata": {},
   "outputs": [],
   "source": [
    "#Base Model\n",
    "perf_report=pd.DataFrame()\n",
    "rf=RandomForestClassifier(n_estimators=500,\n",
    "                          min_samples_leaf=1,\n",
    "                          max_features='log2',\n",
    "                          max_depth=40,\n",
    "                          criterion='gini',\n",
    "                          class_weight='balanced_subsample')\n",
    "rf.fit(X_train,y_train)\n",
    "y_pred=rf.predict(X_test)\n",
    "rf_score=accuracy_score(y_test,y_pred)\n",
    "rf_precision_score=precision_score(y_test,y_pred)\n",
    "perf_report = pd.concat([perf_report, pd.DataFrame([{'model':'Random Forest',\n",
    "                                             'Accuracy': accuracy_score(y_test,y_pred), \n",
    "                                            'Precision': precision_score(y_test,y_pred),\n",
    "                                            'Recall': recall_score(y_test,y_pred),\n",
    "                                                    'F1':f1_score(y_test,y_pred)}])])\n",
    "\n",
    "\n",
    "final_pred=rf.predict(X_test)"
   ]
  },
  {
   "cell_type": "code",
   "execution_count": 41,
   "metadata": {},
   "outputs": [
    {
     "ename": "NameError",
     "evalue": "name 'SMOTE' is not defined",
     "output_type": "error",
     "traceback": [
      "\u001b[1;31m---------------------------------------------------------------------------\u001b[0m",
      "\u001b[1;31mNameError\u001b[0m                                 Traceback (most recent call last)",
      "\u001b[1;32m<ipython-input-41-1e0b369ee9ee>\u001b[0m in \u001b[0;36m<module>\u001b[1;34m\u001b[0m\n\u001b[1;32m----> 1\u001b[1;33m \u001b[0msmote\u001b[0m \u001b[1;33m=\u001b[0m \u001b[0mSMOTE\u001b[0m\u001b[1;33m(\u001b[0m\u001b[0mrandom_state\u001b[0m\u001b[1;33m=\u001b[0m\u001b[1;36m12\u001b[0m\u001b[1;33m)\u001b[0m\u001b[1;33m\u001b[0m\u001b[1;33m\u001b[0m\u001b[0m\n\u001b[0m\u001b[0;32m      2\u001b[0m \u001b[1;33m\u001b[0m\u001b[0m\n\u001b[0;32m      3\u001b[0m \u001b[1;31m#Sampling the data using SMOTE\u001b[0m\u001b[1;33m\u001b[0m\u001b[1;33m\u001b[0m\u001b[1;33m\u001b[0m\u001b[0m\n\u001b[0;32m      4\u001b[0m \u001b[0mX_sample\u001b[0m\u001b[1;33m,\u001b[0m \u001b[0my_sample\u001b[0m \u001b[1;33m=\u001b[0m \u001b[0msmote\u001b[0m\u001b[1;33m.\u001b[0m\u001b[0mfit_sample\u001b[0m\u001b[1;33m(\u001b[0m\u001b[0mX_train\u001b[0m\u001b[1;33m,\u001b[0m \u001b[0my_train\u001b[0m\u001b[1;33m)\u001b[0m\u001b[1;33m\u001b[0m\u001b[1;33m\u001b[0m\u001b[0m\n\u001b[0;32m      5\u001b[0m \u001b[0mrf\u001b[0m\u001b[1;33m.\u001b[0m\u001b[0mfit\u001b[0m\u001b[1;33m(\u001b[0m\u001b[0mX_sample\u001b[0m\u001b[1;33m,\u001b[0m\u001b[0my_sample\u001b[0m\u001b[1;33m)\u001b[0m\u001b[1;33m\u001b[0m\u001b[1;33m\u001b[0m\u001b[0m\n",
      "\u001b[1;31mNameError\u001b[0m: name 'SMOTE' is not defined"
     ]
    }
   ],
   "source": [
    "smote = SMOTE(random_state=12)\n",
    "\n",
    "#Sampling the data using SMOTE\n",
    "X_sample, y_sample = smote.fit_sample(X_train, y_train)\n",
    "rf.fit(X_sample,y_sample)\n",
    "y_pred_smote=rf.predict(X_test)\n",
    "rf_score=accuracy_score(y_test,y_pred_smote)\n",
    "rf_precision_score=precision_score(y_test,y_pred_smote)\n",
    "print('rf_score',rf_score)\n",
    "print('rf_precision_score',rf_precision_score)\n",
    "print(\"cohen's kappa = \" , cohen_kappa_score(y_test,y_pred_smote))\n",
    "pd.crosstab(y_test,y_pred_smote, rownames=['Predicted'], colnames=['Actual'])# Calculating the actual vs predicted"
   ]
  },
  {
   "cell_type": "code",
   "execution_count": 35,
   "metadata": {},
   "outputs": [],
   "source": [
    "df_test_ID=df_test_Modified.ID #Taking ID columns in seperate variable"
   ]
  },
  {
   "cell_type": "code",
   "execution_count": 36,
   "metadata": {},
   "outputs": [],
   "source": [
    "df_test_for_pred=df_test_Modified.drop(columns='ID') #Droping ID to be inline with input for model"
   ]
  },
  {
   "cell_type": "code",
   "execution_count": 37,
   "metadata": {},
   "outputs": [],
   "source": [
    "final_pred_rf=rf.predict(df_test_for_pred) #Executing model to predict claim values"
   ]
  },
  {
   "cell_type": "code",
   "execution_count": 38,
   "metadata": {},
   "outputs": [],
   "source": [
    "#Concating ID and Claim to write in csv\n",
    "final_pred=pd.concat(\n",
    "                    [pd.DataFrame(df_test_ID,columns=['ID']),\n",
    "                         pd.DataFrame(final_pred_rf,columns=['Claim'])],\n",
    "                         axis=1) #Adding both dataframes"
   ]
  },
  {
   "cell_type": "code",
   "execution_count": 39,
   "metadata": {},
   "outputs": [
    {
     "data": {
      "text/html": [
       "<div>\n",
       "<style scoped>\n",
       "    .dataframe tbody tr th:only-of-type {\n",
       "        vertical-align: middle;\n",
       "    }\n",
       "\n",
       "    .dataframe tbody tr th {\n",
       "        vertical-align: top;\n",
       "    }\n",
       "\n",
       "    .dataframe thead th {\n",
       "        text-align: right;\n",
       "    }\n",
       "</style>\n",
       "<table border=\"1\" class=\"dataframe\">\n",
       "  <thead>\n",
       "    <tr style=\"text-align: right;\">\n",
       "      <th></th>\n",
       "      <th>ID</th>\n",
       "      <th>Claim</th>\n",
       "    </tr>\n",
       "  </thead>\n",
       "  <tbody>\n",
       "    <tr>\n",
       "      <th>0</th>\n",
       "      <td>17631</td>\n",
       "      <td>0</td>\n",
       "    </tr>\n",
       "    <tr>\n",
       "      <th>1</th>\n",
       "      <td>15064</td>\n",
       "      <td>0</td>\n",
       "    </tr>\n",
       "    <tr>\n",
       "      <th>2</th>\n",
       "      <td>14139</td>\n",
       "      <td>0</td>\n",
       "    </tr>\n",
       "    <tr>\n",
       "      <th>3</th>\n",
       "      <td>19754</td>\n",
       "      <td>0</td>\n",
       "    </tr>\n",
       "    <tr>\n",
       "      <th>4</th>\n",
       "      <td>16439</td>\n",
       "      <td>0</td>\n",
       "    </tr>\n",
       "  </tbody>\n",
       "</table>\n",
       "</div>"
      ],
      "text/plain": [
       "      ID  Claim\n",
       "0  17631      0\n",
       "1  15064      0\n",
       "2  14139      0\n",
       "3  19754      0\n",
       "4  16439      0"
      ]
     },
     "execution_count": 39,
     "metadata": {},
     "output_type": "execute_result"
    }
   ],
   "source": [
    "final_pred.head()"
   ]
  },
  {
   "cell_type": "markdown",
   "metadata": {},
   "source": [
    "### Writing Prediction to CSV"
   ]
  },
  {
   "cell_type": "code",
   "execution_count": 40,
   "metadata": {},
   "outputs": [],
   "source": [
    "pd.DataFrame.to_csv(final_pred,'RF_Tuned.csv',index=False) "
   ]
  }
 ],
 "metadata": {
  "kernelspec": {
   "display_name": "Python 3",
   "language": "python",
   "name": "python3"
  },
  "language_info": {
   "codemirror_mode": {
    "name": "ipython",
    "version": 3
   },
   "file_extension": ".py",
   "mimetype": "text/x-python",
   "name": "python",
   "nbconvert_exporter": "python",
   "pygments_lexer": "ipython3",
   "version": "3.7.6"
  }
 },
 "nbformat": 4,
 "nbformat_minor": 4
}
